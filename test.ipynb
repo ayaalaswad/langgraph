{
 "cells": [
  {
   "cell_type": "code",
   "execution_count": 1,
   "id": "21cb7f3a",
   "metadata": {},
   "outputs": [],
   "source": [
    "from langgraph.prebuilt import create_react_agent\n"
   ]
  },
  {
   "cell_type": "code",
   "execution_count": 2,
   "id": "37bae997",
   "metadata": {},
   "outputs": [
    {
     "name": "stdout",
     "output_type": "stream",
     "text": [
      "<function create_react_agent at 0x000001E928056320>\n"
     ]
    }
   ],
   "source": [
    "print(create_react_agent)\n"
   ]
  },
  {
   "cell_type": "code",
   "execution_count": null,
   "id": "2c00a80a",
   "metadata": {},
   "outputs": [],
   "source": []
  }
 ],
 "metadata": {
  "kernelspec": {
   "display_name": "training2",
   "language": "python",
   "name": "python3"
  },
  "language_info": {
   "codemirror_mode": {
    "name": "ipython",
    "version": 3
   },
   "file_extension": ".py",
   "mimetype": "text/x-python",
   "name": "python",
   "nbconvert_exporter": "python",
   "pygments_lexer": "ipython3",
   "version": "3.10.16"
  }
 },
 "nbformat": 4,
 "nbformat_minor": 5
}
